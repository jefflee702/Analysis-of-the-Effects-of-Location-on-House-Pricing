{
 "cells": [
  {
   "cell_type": "code",
   "execution_count": 59,
   "metadata": {},
   "outputs": [],
   "source": [
    "import pandas as pd\n",
    "pd.options.mode.chained_assignment = None"
   ]
  },
  {
   "cell_type": "code",
   "execution_count": 62,
   "metadata": {},
   "outputs": [],
   "source": [
    "#turn data into address\n",
    "def address(x):\n",
    "    x = x.iloc[:,range(9,13)]\n",
    "    x['address'] = x[x.columns[:]].apply(\n",
    "        lambda x: ', '.join(x.dropna().astype(str)),\n",
    "        axis=1\n",
    "    )\n",
    "    x = pd.DataFrame(x[x.columns[4]])\n",
    "    return x"
   ]
  },
  {
   "cell_type": "code",
   "execution_count": 64,
   "metadata": {},
   "outputs": [],
   "source": [
    "#Read data in\n",
    "#La\n",
    "la = pd.read_excel(\"./data/la.xlsx\")\n",
    "la = address(la)\n",
    "long_beach = pd.read_excel(\"./data/long_beach.xlsx\")\n",
    "long_beach = address(long_beach)\n",
    "anaheim = pd.read_excel(\"./data/anaheim.xlsx\")\n",
    "anaheim = address(anaheim)\n",
    "\n",
    "#Chicago\n",
    "chicago = pd.read_excel(\"./data/chicago.xlsx\")\n",
    "chicago = address(chicago)\n",
    "naperville = pd.read_excel(\"./data/naperville.xlsx\")\n",
    "naperville = address(naperville)\n",
    "elgin = pd.read_excel(\"./data/elgin.xlsx\")\n",
    "elgin = address(elgin)\n",
    "\n",
    "#Dallas\n",
    "dallas = pd.read_excel(\"./data/dallas.xlsx\")\n",
    "dallas = address(dallas)\n",
    "fort_worth = pd.read_excel(\"./data/fort_worth.xlsx\")\n",
    "fort_worth = address(fort_worth)\n",
    "arlington = pd.read_excel(\"./data/arlington.xlsx\")\n",
    "arlington = address(arlington)\n",
    "\n",
    "#Washington\n",
    "washington = pd.read_excel(\"./data/dc.xlsx\")\n",
    "washington = address(washington)\n",
    "arlington_va = pd.read_excel(\"./data/arlington_va.xlsx\")\n",
    "arlington_va = address(arlington_va)\n",
    "alexandria = pd.read_excel(\"./data/alexandria.xlsx\")\n",
    "alexandria = address(alexandria)"
   ]
  },
  {
   "cell_type": "code",
   "execution_count": 79,
   "metadata": {},
   "outputs": [
    {
     "data": {
      "text/html": [
       "<div>\n",
       "<style scoped>\n",
       "    .dataframe tbody tr th:only-of-type {\n",
       "        vertical-align: middle;\n",
       "    }\n",
       "\n",
       "    .dataframe tbody tr th {\n",
       "        vertical-align: top;\n",
       "    }\n",
       "\n",
       "    .dataframe thead th {\n",
       "        text-align: right;\n",
       "    }\n",
       "</style>\n",
       "<table border=\"1\" class=\"dataframe\">\n",
       "  <thead>\n",
       "    <tr style=\"text-align: right;\">\n",
       "      <th></th>\n",
       "      <th>address</th>\n",
       "    </tr>\n",
       "  </thead>\n",
       "  <tbody>\n",
       "    <tr>\n",
       "      <th>0</th>\n",
       "      <td>3501 N. BRd.way, Los Angeles, CA, 90031</td>\n",
       "    </tr>\n",
       "    <tr>\n",
       "      <th>1</th>\n",
       "      <td>PO Box 42095, Los Angeles, CA, 90042</td>\n",
       "    </tr>\n",
       "    <tr>\n",
       "      <th>2</th>\n",
       "      <td>4000 S. Main St., Los Angeles, CA, 90037</td>\n",
       "    </tr>\n",
       "    <tr>\n",
       "      <th>3</th>\n",
       "      <td>3914 S. Main St., Los Angeles, CA, 90037</td>\n",
       "    </tr>\n",
       "    <tr>\n",
       "      <th>4</th>\n",
       "      <td>1149 S. Hill St. Ste. 600, Los Angeles, CA, 90015</td>\n",
       "    </tr>\n",
       "    <tr>\n",
       "      <th>...</th>\n",
       "      <td>...</td>\n",
       "    </tr>\n",
       "    <tr>\n",
       "      <th>577</th>\n",
       "      <td>3140 Hyde Park Blvd., Los Angeles, CA, 90043</td>\n",
       "    </tr>\n",
       "    <tr>\n",
       "      <th>578</th>\n",
       "      <td>5657 Meridian St., Los Angeles, CA, 90042</td>\n",
       "    </tr>\n",
       "    <tr>\n",
       "      <th>579</th>\n",
       "      <td>615 S. Shatto Pl., Los Angeles, CA, 90005</td>\n",
       "    </tr>\n",
       "    <tr>\n",
       "      <th>580</th>\n",
       "      <td>943 W. 85th St., Los Angeles, CA, 90044</td>\n",
       "    </tr>\n",
       "    <tr>\n",
       "      <th>581</th>\n",
       "      <td>2202 S. Figueroa Ste. 728, Los Angeles, CA, 90007</td>\n",
       "    </tr>\n",
       "  </tbody>\n",
       "</table>\n",
       "<p>582 rows × 1 columns</p>\n",
       "</div>"
      ],
      "text/plain": [
       "                                               address\n",
       "0              3501 N. BRd.way, Los Angeles, CA, 90031\n",
       "1                 PO Box 42095, Los Angeles, CA, 90042\n",
       "2             4000 S. Main St., Los Angeles, CA, 90037\n",
       "3             3914 S. Main St., Los Angeles, CA, 90037\n",
       "4    1149 S. Hill St. Ste. 600, Los Angeles, CA, 90015\n",
       "..                                                 ...\n",
       "577       3140 Hyde Park Blvd., Los Angeles, CA, 90043\n",
       "578          5657 Meridian St., Los Angeles, CA, 90042\n",
       "579          615 S. Shatto Pl., Los Angeles, CA, 90005\n",
       "580            943 W. 85th St., Los Angeles, CA, 90044\n",
       "581  2202 S. Figueroa Ste. 728, Los Angeles, CA, 90007\n",
       "\n",
       "[582 rows x 1 columns]"
      ]
     },
     "execution_count": 79,
     "metadata": {},
     "output_type": "execute_result"
    }
   ],
   "source": [
    "la"
   ]
  }
 ],
 "metadata": {
  "kernelspec": {
   "display_name": "Python 3.9.1 64-bit",
   "language": "python",
   "name": "python3"
  },
  "language_info": {
   "codemirror_mode": {
    "name": "ipython",
    "version": 3
   },
   "file_extension": ".py",
   "mimetype": "text/x-python",
   "name": "python",
   "nbconvert_exporter": "python",
   "pygments_lexer": "ipython3",
   "version": "3.9.1"
  },
  "orig_nbformat": 4,
  "vscode": {
   "interpreter": {
    "hash": "687e73b5e45ec6bac5beacf85c676969d72048082be3e8129d203123a9a4b6bb"
   }
  }
 },
 "nbformat": 4,
 "nbformat_minor": 2
}
