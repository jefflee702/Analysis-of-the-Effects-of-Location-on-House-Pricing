{
 "cells": [
  {
   "cell_type": "code",
   "execution_count": 1,
   "metadata": {},
   "outputs": [],
   "source": [
    "import pandas as pd\n",
    "pd.options.mode.chained_assignment = None"
   ]
  },
  {
   "cell_type": "code",
   "execution_count": 2,
   "metadata": {},
   "outputs": [],
   "source": [
    "#turn data into address\n",
    "def address(x):\n",
    "    x = x.iloc[:,range(9,13)]\n",
    "    x['address'] = x[x.columns[:]].apply(\n",
    "        lambda x: ', '.join(x.dropna().astype(str)),\n",
    "        axis=1\n",
    "    )\n",
    "    x = pd.DataFrame(x[x.columns[4]])\n",
    "    return x"
   ]
  },
  {
   "cell_type": "code",
   "execution_count": 5,
   "metadata": {},
   "outputs": [],
   "source": [
    "#Read data in\n",
    "#La\n",
    "la = pd.read_excel(\"./data/la.xlsx\")\n",
    "la = address(la)\n",
    "long_beach = pd.read_excel(\"./data/long_beach.xlsx\")\n",
    "long_beach = address(long_beach)\n",
    "anaheim = pd.read_excel(\"./data/anaheim.xlsx\")\n",
    "anaheim = address(anaheim)\n",
    "\n",
    "#Chicago\n",
    "chicago = pd.read_excel(\"./data/chicago.xlsx\")\n",
    "chicago = address(chicago)\n",
    "naperville = pd.read_excel(\"./data/naperville.xlsx\")\n",
    "naperville = address(naperville)\n",
    "elgin = pd.read_excel(\"./data/elgin.xlsx\")\n",
    "elgin = address(elgin)\n",
    "\n",
    "#Dallas\n",
    "dallas = pd.read_excel(\"./data/dallas.xlsx\")\n",
    "dallas = address(dallas)\n",
    "fort_worth = pd.read_excel(\"./data/fort_worth.xlsx\")\n",
    "fort_worth = address(fort_worth)\n",
    "arlington = pd.read_excel(\"./data/arlington.xlsx\")\n",
    "arlington = address(arlington)\n",
    "\n",
    "#Washington\n",
    "washington = pd.read_excel(\"./data/dc.xlsx\")\n",
    "washington = address(washington)\n",
    "arlington_va = pd.read_excel(\"./data/arlington_va.xlsx\")\n",
    "arlington_va = address(arlington_va)\n",
    "alexandria = pd.read_excel(\"./data/alexandria.xlsx\")\n",
    "alexandria = address(alexandria)"
   ]
  },
  {
   "cell_type": "markdown",
   "metadata": {},
   "source": [
    "Start Getting Coordinates"
   ]
  },
  {
   "cell_type": "code",
   "execution_count": 12,
   "metadata": {},
   "outputs": [
    {
     "name": "stdout",
     "output_type": "stream",
     "text": [
      "<class 'pandas.core.frame.DataFrame'>\n"
     ]
    },
    {
     "data": {
      "text/plain": [
       "0                3501 N. BRd.way, Los Angeles, CA, 90031\n",
       "1                   PO Box 42095, Los Angeles, CA, 90042\n",
       "2               4000 S. Main St., Los Angeles, CA, 90037\n",
       "3               3914 S. Main St., Los Angeles, CA, 90037\n",
       "4      1149 S. Hill St. Ste. 600, Los Angeles, CA, 90015\n",
       "                             ...                        \n",
       "577         3140 Hyde Park Blvd., Los Angeles, CA, 90043\n",
       "578            5657 Meridian St., Los Angeles, CA, 90042\n",
       "579            615 S. Shatto Pl., Los Angeles, CA, 90005\n",
       "580              943 W. 85th St., Los Angeles, CA, 90044\n",
       "581    2202 S. Figueroa Ste. 728, Los Angeles, CA, 90007\n",
       "Name: address, Length: 582, dtype: object"
      ]
     },
     "execution_count": 12,
     "metadata": {},
     "output_type": "execute_result"
    }
   ],
   "source": [
    "print(type(la))\n",
    "la.iloc[:,0]"
   ]
  },
  {
   "cell_type": "code",
   "execution_count": 6,
   "metadata": {},
   "outputs": [],
   "source": [
    "import http.client, urllib.parse\n",
    "import json\n",
    "import pandas as pd"
   ]
  },
  {
   "cell_type": "code",
   "execution_count": 8,
   "metadata": {},
   "outputs": [],
   "source": [
    "def getCoords(df):\n",
    "    \n",
    "    #api info\n",
    "    conn = http.client.HTTPConnection('api.positionstack.com')\n",
    "    key = 'df3b33e27a0f6451fd9aae993c6a26fa'\n",
    "    \n",
    "    \n",
    "    def query(coord, address):\n",
    "\n",
    "        params = urllib.parse.urlencode({\n",
    "            'access_key': key,\n",
    "            'query': address,\n",
    "            'limit': 1\n",
    "            })\n",
    "        \n",
    "        conn.request('GET', '/v1/forward?{}'.format(params))\n",
    "        results = conn.getresponse()\n",
    "        data = json.loads(results.read())['data'][0] #converts json to dict\n",
    "        \n",
    "        if coord == 'x':\n",
    "            result = data['latitude']\n",
    "        else:\n",
    "            result = data['longitude']\n",
    "        \n",
    "        return result\n",
    "    \n",
    "\n",
    "    lat = [query('x', address) for address in df.iloc[:,0]]\n",
    "    lon = [query('y', address) for address in df.iloc[:,0]]\n",
    "    \n",
    "    df['latitude'] = lat\n",
    "    df['longitude'] = lon\n",
    "    \n",
    "    return df"
   ]
  },
  {
   "cell_type": "code",
   "execution_count": 13,
   "metadata": {},
   "outputs": [],
   "source": [
    "#Doesn't work \"list index out of range\"\n",
    "#getCoords(la)"
   ]
  }
 ],
 "metadata": {
  "kernelspec": {
   "display_name": "Python 3.9.1 64-bit",
   "language": "python",
   "name": "python3"
  },
  "language_info": {
   "codemirror_mode": {
    "name": "ipython",
    "version": 3
   },
   "file_extension": ".py",
   "mimetype": "text/x-python",
   "name": "python",
   "nbconvert_exporter": "python",
   "pygments_lexer": "ipython3",
   "version": "3.9.1"
  },
  "orig_nbformat": 4,
  "vscode": {
   "interpreter": {
    "hash": "687e73b5e45ec6bac5beacf85c676969d72048082be3e8129d203123a9a4b6bb"
   }
  }
 },
 "nbformat": 4,
 "nbformat_minor": 2
}
