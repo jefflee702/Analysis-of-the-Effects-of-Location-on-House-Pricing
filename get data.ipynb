{
 "cells": [
  {
   "cell_type": "code",
   "execution_count": null,
   "id": "da6697d4",
   "metadata": {},
   "outputs": [],
   "source": [
    "import requests\n",
    "import http.client, urllib.parse\n",
    "import csv"
   ]
  },
  {
   "cell_type": "code",
   "execution_count": 24,
   "id": "5aff04e4",
   "metadata": {},
   "outputs": [],
   "source": [
    "\n",
    "def getHouses(csv, cities):\n",
    "\n",
    "    csvfile = open(csv, 'w', newline='')\n",
    "    writer = csv.DictWriter(csvfile, fieldnames=['id', 'price', 'city', 'latitude', 'longitude', 'squareFootage'])\n",
    "\n",
    "    url = \"https://realty-mole-property-api.p.rapidapi.com/saleListings\"\n",
    "\n",
    "    for city, state in cities:\n",
    "        querystring = {\"city\":city,\"state\":state,\"limit\":\"500\"}\n",
    "\n",
    "        headers = {\n",
    "            \"X-RapidAPI-Key\": \"43686bd243mshe8a0be6f9e0556cp10a1bbjsn58033bf0f546\",\n",
    "            \"X-RapidAPI-Host\": \"realty-mole-property-api.p.rapidapi.com\"\n",
    "        }\n",
    "\n",
    "        response = requests.request(\"GET\", url, headers=headers, params=querystring)\n",
    "\n",
    "        for house in response.json():\n",
    "            if type(house) == dict:\n",
    "                id_ = house.get('id')\n",
    "                price = house.get('price')\n",
    "                city = house.get('city')\n",
    "                latitude = house.get('latitude')\n",
    "                longitude = house.get('longitude')\n",
    "                sqf = house.get('squareFootage')\n",
    "                writer.writerow({'id':id_, 'price':price, 'city':city, 'latitude':latitude, 'longitude':longitude, 'squareFootage':sqf})\n",
    "\n",
    "    csvfile.close()\n",
    "    "
   ]
  },
  {
   "cell_type": "code",
   "execution_count": 23,
   "id": "4b536ca0",
   "metadata": {},
   "outputs": [],
   "source": [
    "#RUNNING THIS WILL DUPLICATE ENTRIES ON CURRENT FILE\n",
    "cities = [('Los Angeles', 'CA'), ('Anaheim','CA'), ('Long Beach', 'CA'), ('Chicago', 'IL'), ('Napervill', 'IL'), ('Elgin', 'IL'),\n",
    "             ('Dallas', 'TX'), ('Fort Worth', 'TX'), ('Arlington', 'TX'), ('Washington', 'DC'), ('Arlington', 'VA'), ('Alexandria', 'VA')]\n",
    "\n",
    "getHouses('houses.csv', cities)"
   ]
  },
  {
   "cell_type": "code",
   "execution_count": null,
   "id": "42ac9f64",
   "metadata": {},
   "outputs": [],
   "source": [
    "\n",
    "def getCoords(csv_):\n",
    "    \n",
    "    csvfile = open(csv_, 'w', newline='')\n",
    "    reader = csv.reader()\n",
    "    writer = csv.Writer()\n",
    "    \n",
    "    conn = http.client.HTTPConnection('api.positionstack.com')\n",
    "    key = 'df3b33e27a0f6451fd9aae993c6a26fa'\n",
    "    \n",
    "    for row in reader:\n",
    "        params = urllib.parse.urlencode({\n",
    "            'access_key': key,\n",
    "            'query': address,\n",
    "            'region': row[0],\n",
    "            'limit': 1,\n",
    "            })\n",
    "        \n",
    "        conn.request('GET', '/v1/forward?{}'.format(params))\n",
    "        res = conn.getresponse()\n",
    "        data = res.read()\n",
    "        print(data)\n",
    "        \n",
    "        #append coordinates to csv file\n",
    "#        if row[0].lower() == \"address\":\n",
    "#            writer.writerow(row+[\"latitude\"]+[\"longitude\"])\n",
    "#        else:\n",
    "#            writer.writerow(row+[x]+[y])\n",
    "            \n",
    "    csvfile.close()"
   ]
  },
  {
   "cell_type": "code",
   "execution_count": null,
   "id": "ce1223a2",
   "metadata": {},
   "outputs": [],
   "source": [
    "getCoords('test.csv')"
   ]
  }
 ],
 "metadata": {
  "kernelspec": {
   "display_name": "Python 3 (ipykernel)",
   "language": "python",
   "name": "python3"
  },
  "language_info": {
   "codemirror_mode": {
    "name": "ipython",
    "version": 3
   },
   "file_extension": ".py",
   "mimetype": "text/x-python",
   "name": "python",
   "nbconvert_exporter": "python",
   "pygments_lexer": "ipython3",
   "version": "3.9.12"
  }
 },
 "nbformat": 4,
 "nbformat_minor": 5
}
