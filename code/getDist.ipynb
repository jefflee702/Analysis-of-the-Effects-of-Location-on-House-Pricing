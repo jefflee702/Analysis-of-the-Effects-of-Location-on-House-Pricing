{
 "cells": [
  {
   "cell_type": "code",
   "execution_count": 6,
   "id": "da299f5c",
   "metadata": {},
   "outputs": [],
   "source": [
    "import math\n",
    "\n",
    "#calculates the euclidian distance from a house to the nearest location (school, hosital, etc.) in its city\n",
    "#multiplies distance by factor of 100 to make number readable\n",
    "\n",
    "#accepts a dataframe of houses and a dataframe of locations\n",
    "#returns a list of shortest distance\n",
    "\n",
    "def getDist(houses, locations):\n",
    "    \n",
    "    for house in houses:\n",
    "        min_dist = 999999999\n",
    "        x1 = house['latitude']\n",
    "        x2 = house['longitude']\n",
    "        \n",
    "        for location in locations:\n",
    "            x2 = location['latitude']\n",
    "            y2 = location['longitude']\n",
    "            dist = (math.sqrt((x2 - x1)**2 + (y2 - y1)**2))*100\n",
    "            if dist < min_dist:\n",
    "                min_dist = dist\n",
    "                \n",
    "        distances.append(min_dist)  \n",
    "    \n",
    "    return distances\n",
    "    "
   ]
  }
 ],
 "metadata": {
  "kernelspec": {
   "display_name": "Python 3 (ipykernel)",
   "language": "python",
   "name": "python3"
  },
  "language_info": {
   "codemirror_mode": {
    "name": "ipython",
    "version": 3
   },
   "file_extension": ".py",
   "mimetype": "text/x-python",
   "name": "python",
   "nbconvert_exporter": "python",
   "pygments_lexer": "ipython3",
   "version": "3.9.12"
  }
 },
 "nbformat": 4,
 "nbformat_minor": 5
}
