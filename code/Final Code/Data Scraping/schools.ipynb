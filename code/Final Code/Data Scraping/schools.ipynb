{
 "cells": [
  {
   "cell_type": "code",
   "execution_count": 1,
   "metadata": {},
   "outputs": [],
   "source": [
    "import pandas as pd\n",
    "pd.options.mode.chained_assignment = None"
   ]
  },
  {
   "cell_type": "code",
   "execution_count": 1,
   "metadata": {},
   "outputs": [],
   "source": [
    "#turn data into address\n",
    "def address(x):\n",
    "    x = x.iloc[:,range(9,13)]\n",
    "    x['address'] = x[x.columns[:]].apply(\n",
    "        lambda x: ', '.join(x.dropna().astype(str)),\n",
    "        axis=1\n",
    "    )\n",
    "    x = pd.DataFrame(x[x.columns[4]])\n",
    "    return x"
   ]
  },
  {
   "cell_type": "code",
   "execution_count": 4,
   "metadata": {},
   "outputs": [],
   "source": [
    "#Read data in\n",
    "#La\n",
    "la = pd.read_excel(\"./data/la.xlsx\")\n",
    "la = address(la)\n",
    "long_beach = pd.read_excel(\"./data/long_beach.xlsx\")\n",
    "long_beach = address(long_beach)\n",
    "anaheim = pd.read_excel(\"./data/anaheim.xlsx\")\n",
    "anaheim = address(anaheim)\n",
    "\n",
    "#Chicago\n",
    "chicago = pd.read_excel(\"./data/chicago.xlsx\")\n",
    "chicago = address(chicago)\n",
    "naperville = pd.read_excel(\"./data/naperville.xlsx\")\n",
    "naperville = address(naperville)\n",
    "elgin = pd.read_excel(\"./data/elgin.xlsx\")\n",
    "elgin = address(elgin)\n",
    "\n",
    "#Dallas\n",
    "dallas = pd.read_excel(\"./data/dallas.xlsx\")\n",
    "dallas = address(dallas)\n",
    "fort_worth = pd.read_excel(\"./data/fort_worth.xlsx\")\n",
    "fort_worth = address(fort_worth)\n",
    "arlington = pd.read_excel(\"./data/arlington.xlsx\")\n",
    "arlington = address(arlington)\n",
    "\n",
    "#Washington\n",
    "washington = pd.read_excel(\"./data/dc.xlsx\")\n",
    "washington = address(washington)\n",
    "arlington_va = pd.read_excel(\"./data/arlington_va.xlsx\")\n",
    "arlington_va = address(arlington_va)\n",
    "alexandria = pd.read_excel(\"./data/alexandria.xlsx\")\n",
    "alexandria = address(alexandria)"
   ]
  },
  {
   "cell_type": "markdown",
   "metadata": {},
   "source": [
    "Start Getting Coordinates"
   ]
  },
  {
   "cell_type": "code",
   "execution_count": 5,
   "metadata": {},
   "outputs": [
    {
     "name": "stdout",
     "output_type": "stream",
     "text": [
      "<class 'pandas.core.frame.DataFrame'>\n"
     ]
    },
    {
     "data": {
      "text/plain": [
       "0                3501 N. BRd.way, Los Angeles, CA, 90031\n",
       "1                   PO Box 42095, Los Angeles, CA, 90042\n",
       "2               4000 S. Main St., Los Angeles, CA, 90037\n",
       "3               3914 S. Main St., Los Angeles, CA, 90037\n",
       "4      1149 S. Hill St. Ste. 600, Los Angeles, CA, 90015\n",
       "                             ...                        \n",
       "577         3140 Hyde Park Blvd., Los Angeles, CA, 90043\n",
       "578            5657 Meridian St., Los Angeles, CA, 90042\n",
       "579            615 S. Shatto Pl., Los Angeles, CA, 90005\n",
       "580              943 W. 85th St., Los Angeles, CA, 90044\n",
       "581    2202 S. Figueroa Ste. 728, Los Angeles, CA, 90007\n",
       "Name: address, Length: 582, dtype: object"
      ]
     },
     "execution_count": 5,
     "metadata": {},
     "output_type": "execute_result"
    }
   ],
   "source": [
    "print(type(la))\n",
    "la.iloc[:,0]"
   ]
  },
  {
   "cell_type": "code",
   "execution_count": 6,
   "metadata": {},
   "outputs": [],
   "source": [
    "import http.client, urllib.parse\n",
    "import json\n",
    "import pandas as pd"
   ]
  },
  {
   "cell_type": "code",
   "execution_count": 7,
   "metadata": {},
   "outputs": [],
   "source": [
    "def getCoords(df):\n",
    "    \n",
    "    #api info\n",
    "    conn = http.client.HTTPConnection('api.positionstack.com')\n",
    "    key = 'df3b33e27a0f6451fd9aae993c6a26fa'\n",
    "    \n",
    "    \n",
    "    def query(coord, address):\n",
    "\n",
    "        params = urllib.parse.urlencode({\n",
    "            'access_key': key,\n",
    "            'query': address,\n",
    "            'limit': 1\n",
    "            })\n",
    "        \n",
    "        conn.request('GET', '/v1/forward?{}'.format(params))\n",
    "        results = conn.getresponse()\n",
    "        data = json.loads(results.read())['data'][0] #converts json to dict\n",
    "        \n",
    "        if coord == 'x':\n",
    "            result = data['latitude']\n",
    "        else:\n",
    "            result = data['longitude']\n",
    "        \n",
    "        return result\n",
    "    \n",
    "\n",
    "    lat = [query('x', address) for address in df.iloc[:,0]]\n",
    "    lon = [query('y', address) for address in df.iloc[:,0]]\n",
    "    \n",
    "    df['latitude'] = lat\n",
    "    df['longitude'] = lon\n",
    "    \n",
    "    return df"
   ]
  },
  {
   "cell_type": "code",
   "execution_count": 10,
   "metadata": {},
   "outputs": [
    {
     "ename": "IndexError",
     "evalue": "list index out of range",
     "output_type": "error",
     "traceback": [
      "\u001b[1;31m---------------------------------------------------------------------------\u001b[0m",
      "\u001b[1;31mIndexError\u001b[0m                                Traceback (most recent call last)",
      "Input \u001b[1;32mIn [10]\u001b[0m, in \u001b[0;36m<cell line: 2>\u001b[1;34m()\u001b[0m\n\u001b[0;32m      1\u001b[0m \u001b[38;5;66;03m#Doesn't work \"list index out of range\"\u001b[39;00m\n\u001b[1;32m----> 2\u001b[0m \u001b[43mgetCoords\u001b[49m\u001b[43m(\u001b[49m\u001b[43mla\u001b[49m\u001b[43m)\u001b[49m\n",
      "Input \u001b[1;32mIn [7]\u001b[0m, in \u001b[0;36mgetCoords\u001b[1;34m(df)\u001b[0m\n\u001b[0;32m     23\u001b[0m         result \u001b[38;5;241m=\u001b[39m data[\u001b[38;5;124m'\u001b[39m\u001b[38;5;124mlongitude\u001b[39m\u001b[38;5;124m'\u001b[39m]\n\u001b[0;32m     25\u001b[0m     \u001b[38;5;28;01mreturn\u001b[39;00m result\n\u001b[1;32m---> 28\u001b[0m lat \u001b[38;5;241m=\u001b[39m [query(\u001b[38;5;124m'\u001b[39m\u001b[38;5;124mx\u001b[39m\u001b[38;5;124m'\u001b[39m, address) \u001b[38;5;28;01mfor\u001b[39;00m address \u001b[38;5;129;01min\u001b[39;00m df\u001b[38;5;241m.\u001b[39miloc[:,\u001b[38;5;241m0\u001b[39m]]\n\u001b[0;32m     29\u001b[0m lon \u001b[38;5;241m=\u001b[39m [query(\u001b[38;5;124m'\u001b[39m\u001b[38;5;124my\u001b[39m\u001b[38;5;124m'\u001b[39m, address) \u001b[38;5;28;01mfor\u001b[39;00m address \u001b[38;5;129;01min\u001b[39;00m df\u001b[38;5;241m.\u001b[39miloc[:,\u001b[38;5;241m0\u001b[39m]]\n\u001b[0;32m     31\u001b[0m df[\u001b[38;5;124m'\u001b[39m\u001b[38;5;124mlatitude\u001b[39m\u001b[38;5;124m'\u001b[39m] \u001b[38;5;241m=\u001b[39m lat\n",
      "Input \u001b[1;32mIn [7]\u001b[0m, in \u001b[0;36m<listcomp>\u001b[1;34m(.0)\u001b[0m\n\u001b[0;32m     23\u001b[0m         result \u001b[38;5;241m=\u001b[39m data[\u001b[38;5;124m'\u001b[39m\u001b[38;5;124mlongitude\u001b[39m\u001b[38;5;124m'\u001b[39m]\n\u001b[0;32m     25\u001b[0m     \u001b[38;5;28;01mreturn\u001b[39;00m result\n\u001b[1;32m---> 28\u001b[0m lat \u001b[38;5;241m=\u001b[39m [\u001b[43mquery\u001b[49m\u001b[43m(\u001b[49m\u001b[38;5;124;43m'\u001b[39;49m\u001b[38;5;124;43mx\u001b[39;49m\u001b[38;5;124;43m'\u001b[39;49m\u001b[43m,\u001b[49m\u001b[43m \u001b[49m\u001b[43maddress\u001b[49m\u001b[43m)\u001b[49m \u001b[38;5;28;01mfor\u001b[39;00m address \u001b[38;5;129;01min\u001b[39;00m df\u001b[38;5;241m.\u001b[39miloc[:,\u001b[38;5;241m0\u001b[39m]]\n\u001b[0;32m     29\u001b[0m lon \u001b[38;5;241m=\u001b[39m [query(\u001b[38;5;124m'\u001b[39m\u001b[38;5;124my\u001b[39m\u001b[38;5;124m'\u001b[39m, address) \u001b[38;5;28;01mfor\u001b[39;00m address \u001b[38;5;129;01min\u001b[39;00m df\u001b[38;5;241m.\u001b[39miloc[:,\u001b[38;5;241m0\u001b[39m]]\n\u001b[0;32m     31\u001b[0m df[\u001b[38;5;124m'\u001b[39m\u001b[38;5;124mlatitude\u001b[39m\u001b[38;5;124m'\u001b[39m] \u001b[38;5;241m=\u001b[39m lat\n",
      "Input \u001b[1;32mIn [7]\u001b[0m, in \u001b[0;36mgetCoords.<locals>.query\u001b[1;34m(coord, address)\u001b[0m\n\u001b[0;32m     16\u001b[0m conn\u001b[38;5;241m.\u001b[39mrequest(\u001b[38;5;124m'\u001b[39m\u001b[38;5;124mGET\u001b[39m\u001b[38;5;124m'\u001b[39m, \u001b[38;5;124m'\u001b[39m\u001b[38;5;124m/v1/forward?\u001b[39m\u001b[38;5;132;01m{}\u001b[39;00m\u001b[38;5;124m'\u001b[39m\u001b[38;5;241m.\u001b[39mformat(params))\n\u001b[0;32m     17\u001b[0m results \u001b[38;5;241m=\u001b[39m conn\u001b[38;5;241m.\u001b[39mgetresponse()\n\u001b[1;32m---> 18\u001b[0m data \u001b[38;5;241m=\u001b[39m \u001b[43mjson\u001b[49m\u001b[38;5;241;43m.\u001b[39;49m\u001b[43mloads\u001b[49m\u001b[43m(\u001b[49m\u001b[43mresults\u001b[49m\u001b[38;5;241;43m.\u001b[39;49m\u001b[43mread\u001b[49m\u001b[43m(\u001b[49m\u001b[43m)\u001b[49m\u001b[43m)\u001b[49m\u001b[43m[\u001b[49m\u001b[38;5;124;43m'\u001b[39;49m\u001b[38;5;124;43mdata\u001b[39;49m\u001b[38;5;124;43m'\u001b[39;49m\u001b[43m]\u001b[49m\u001b[43m[\u001b[49m\u001b[38;5;241;43m0\u001b[39;49m\u001b[43m]\u001b[49m \u001b[38;5;66;03m#converts json to dict\u001b[39;00m\n\u001b[0;32m     20\u001b[0m \u001b[38;5;28;01mif\u001b[39;00m coord \u001b[38;5;241m==\u001b[39m \u001b[38;5;124m'\u001b[39m\u001b[38;5;124mx\u001b[39m\u001b[38;5;124m'\u001b[39m:\n\u001b[0;32m     21\u001b[0m     result \u001b[38;5;241m=\u001b[39m data[\u001b[38;5;124m'\u001b[39m\u001b[38;5;124mlatitude\u001b[39m\u001b[38;5;124m'\u001b[39m]\n",
      "\u001b[1;31mIndexError\u001b[0m: list index out of range"
     ]
    }
   ],
   "source": [
    "#Doesn't work \"list index out of range\"\n",
    "getCoords(la)"
   ]
  },
  {
   "cell_type": "code",
   "execution_count": null,
   "metadata": {},
   "outputs": [],
   "source": []
  }
 ],
 "metadata": {
  "kernelspec": {
   "display_name": "Python 3.9.12 ('base')",
   "language": "python",
   "name": "python3"
  },
  "language_info": {
   "codemirror_mode": {
    "name": "ipython",
    "version": 3
   },
   "file_extension": ".py",
   "mimetype": "text/x-python",
   "name": "python",
   "nbconvert_exporter": "python",
   "pygments_lexer": "ipython3",
   "version": "3.9.12"
  },
  "vscode": {
   "interpreter": {
    "hash": "6e4a38a8137c1a4cb4c7901223266b1dfbc056b248676f3e6576fa0f54bd3eb8"
   }
  }
 },
 "nbformat": 4,
 "nbformat_minor": 2
}
