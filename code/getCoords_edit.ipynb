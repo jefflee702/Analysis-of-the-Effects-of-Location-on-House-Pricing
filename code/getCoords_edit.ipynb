{
 "cells": [
  {
   "cell_type": "code",
   "execution_count": 1,
   "id": "6a9c05fa",
   "metadata": {},
   "outputs": [],
   "source": [
    "import http.client, urllib.parse\n",
    "import json\n",
    "import pandas as pd"
   ]
  },
  {
   "cell_type": "code",
   "execution_count": 16,
   "id": "65bd57dc",
   "metadata": {},
   "outputs": [],
   "source": [
    "def getCoords(df):\n",
    "        \n",
    "    #api info\n",
    "    conn = http.client.HTTPConnection('api.positionstack.com')\n",
    "    key = 'df3b33e27a0f6451fd9aae993c6a26fa'\n",
    "        \n",
    "        \n",
    "    def query(coord, address):\n",
    "               \n",
    "        params = urllib.parse.urlencode({\n",
    "                'access_key': key,\n",
    "                'query': address,\n",
    "                'limit': 1\n",
    "            })\n",
    "\n",
    "        conn.request('GET', '/v1/forward?{}'.format(params))\n",
    "        try:\n",
    "            results = conn.getresponse()\n",
    "        except:\n",
    "            query(coord,address)\n",
    "            print(\"error\")\n",
    "        try:\n",
    "            data = json.loads(results.read())['data'][0] #converts json to dict\n",
    "            if coord == 'x':\n",
    "                result = data['latitude']\n",
    "            else:\n",
    "                result = data['longitude']\n",
    "            return result\n",
    "        except:\n",
    "            pass\n",
    "            print(\"error\")\n",
    "        \n",
    "\n",
    "    lat = [query('x', address) for address in df.iloc[:,0]]\n",
    "    lon = [query('y', address) for address in df.iloc[:,0]]\n",
    "        \n",
    "    df['latitude'] = lat\n",
    "    df['longitude'] = lon\n",
    "        \n",
    "    return df\n"
   ]
  }
 ],
 "metadata": {
  "kernelspec": {
   "display_name": "Python 3.9.12 ('base')",
   "language": "python",
   "name": "python3"
  },
  "language_info": {
   "codemirror_mode": {
    "name": "ipython",
    "version": 3
   },
   "file_extension": ".py",
   "mimetype": "text/x-python",
   "name": "python",
   "nbconvert_exporter": "python",
   "pygments_lexer": "ipython3",
   "version": "3.9.12"
  },
  "vscode": {
   "interpreter": {
    "hash": "6e4a38a8137c1a4cb4c7901223266b1dfbc056b248676f3e6576fa0f54bd3eb8"
   }
  }
 },
 "nbformat": 4,
 "nbformat_minor": 5
}
