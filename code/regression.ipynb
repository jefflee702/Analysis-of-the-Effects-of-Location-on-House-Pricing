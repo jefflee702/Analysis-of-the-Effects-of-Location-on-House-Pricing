{
 "cells": [
  {
   "cell_type": "code",
   "execution_count": 33,
   "id": "443227bc",
   "metadata": {},
   "outputs": [],
   "source": [
    "import pandas as pd\n",
    "import numpy as np\n",
    "import matplotlib.pyplot as plt\n",
    "from scipy import stats\n",
    " \n",
    "lametro = pd.read_csv(\"../data/final/final_lametro.csv\")\n",
    "chimetro = pd.read_csv(\"../data/final/final_chimetro.csv\")\n",
    "dcmetro = pd.read_csv(\"../data/final/final_dcmetro.csv\")\n",
    "dalmetro = pd.read_csv(\"../data/final/final_txmetro.csv\")\n",
    "\n",
    "lametro_adj = lametro[[\"Norm Price\",\"Housing Price/SQ Ft\",\"dist_hospitals\",\"dist_gym\",\"dist_cemetary\",\"dist_parks\",\"dist_beaches\",\"dist_shopping\",\"dist_grocery\",\"dist_resturant\",\"dist_golf\",\"dist_school\"]]\n",
    "lametro_adj = lametro_adj[(np.abs(stats.zscore(lametro_adj)) < 3).all(axis=1)]\n",
    "lametro_adj.to_csv(\"adj_lametro.csv\")\n",
    "\n",
    "chimetro_adj = chimetro[[\"Norm Price\",\"Housing Price/SQ Ft\",\"dist_hospitals\",\"dist_gym\",\"dist_cemetary\",\"dist_parks\",\"dist_beaches\",\"dist_shopping\",\"dist_grocery\",\"dist_resturant\",\"dist_golf\",\"dist_school\"]]\n",
    "chimetro_adj = chimetro_adj[(np.abs(stats.zscore(chimetro_adj)) < 3).all(axis=1)]\n",
    "chimetro_adj.to_csv(\"adj_chimetro.csv\")\n",
    "\n",
    "dcmetro_adj = dcmetro[[\"Norm Price\",\"Housing Price/SQ Ft\",\"dist_hospitals\",\"dist_gym\",\"dist_cemetary\",\"dist_parks\",\"dist_beaches\",\"dist_shopping\",\"dist_grocery\",\"dist_resturant\",\"dist_golf\",\"dist_school\"]]\n",
    "dcmetro_adj = dcmetro_adj[(np.abs(stats.zscore(dcmetro_adj)) < 3).all(axis=1)]\n",
    "dcmetro_adj.to_csv(\"adj_dcmetro.csv\")\n",
    "\n",
    "dalmetro_adj = dalmetro[[\"Norm Price\",\"Housing Price/SQ Ft\",\"dist_hospitals\",\"dist_gym\",\"dist_cemetary\",\"dist_parks\",\"dist_beaches\",\"dist_shopping\",\"dist_grocery\",\"dist_resturant\",\"dist_golf\",\"dist_school\"]]\n",
    "dalmetro_adj = dalmetro_adj[(np.abs(stats.zscore(dalmetro_adj)) < 3).all(axis=1)]\n",
    "dalmetro_adj.to_csv(\"adj_dalmetro.csv\")\n",
    "\n",
    "\n",
    "\n"
   ]
  }
 ],
 "metadata": {
  "kernelspec": {
   "display_name": "Python 3.11.0 64-bit",
   "language": "python",
   "name": "python3"
  },
  "language_info": {
   "codemirror_mode": {
    "name": "ipython",
    "version": 3
   },
   "file_extension": ".py",
   "mimetype": "text/x-python",
   "name": "python",
   "nbconvert_exporter": "python",
   "pygments_lexer": "ipython3",
   "version": "3.11.0"
  },
  "vscode": {
   "interpreter": {
    "hash": "79ebf47199a5159104bde783b4ed6cd1da213c7eb237a0e97765dd33c8166d02"
   }
  }
 },
 "nbformat": 4,
 "nbformat_minor": 5
}
