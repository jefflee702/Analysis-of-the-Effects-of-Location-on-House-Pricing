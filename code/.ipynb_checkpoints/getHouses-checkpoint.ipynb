{
 "cells": [
  {
   "cell_type": "code",
   "execution_count": 1,
   "id": "da6697d4",
   "metadata": {},
   "outputs": [],
   "source": [
    "import requests\n",
    "import http.client, urllib.parse\n",
    "import csv"
   ]
  },
  {
   "cell_type": "code",
   "execution_count": 2,
   "id": "5aff04e4",
   "metadata": {},
   "outputs": [],
   "source": [
    "\n",
    "def getHouses(csv_, cities):\n",
    "\n",
    "    csvfile = open(csv_, 'w', newline='')\n",
    "    writer = csv.DictWriter(csvfile, fieldnames=['address', 'price', 'city', 'squareFootage', 'latitude', 'longitude'])\n",
    "\n",
    "    url = \"https://realty-mole-property-api.p.rapidapi.com/saleListings\"\n",
    "\n",
    "    for city, state in cities:\n",
    "        querystring = {\"city\":city,\"state\":state,\"limit\":\"500\"}\n",
    "\n",
    "        headers = {\n",
    "            \"X-RapidAPI-Key\": \"43686bd243mshe8a0be6f9e0556cp10a1bbjsn58033bf0f546\",\n",
    "            \"X-RapidAPI-Host\": \"realty-mole-property-api.p.rapidapi.com\"\n",
    "        }\n",
    "\n",
    "        response = requests.request(\"GET\", url, headers=headers, params=querystring)\n",
    "\n",
    "        for house in response.json():\n",
    "            if type(house) == dict:\n",
    "                address = house.get('formattedAddress')\n",
    "                price = house.get('price')\n",
    "                city = house.get('city')\n",
    "                sqf = house.get('squareFootage')\n",
    "                latitude = house.get('latitude')\n",
    "                longitude = house.get('longitude')\n",
    "                writer.writerow({'address':address, 'price':price, 'city':city, 'squareFootage':sqf, \n",
    "                                 'latitude':latitude, 'longitude':longitude})\n",
    "\n",
    "    csvfile.close()\n",
    "    "
   ]
  },
  {
   "cell_type": "code",
   "execution_count": 3,
   "id": "4b536ca0",
   "metadata": {},
   "outputs": [],
   "source": [
    "#RUNNING THIS WILL DUPLICATE ENTRIES ON CURRENT FILE\n",
    "cities = [('Los Angeles', 'CA'), ('Anaheim','CA'), ('Long Beach', 'CA'), ('Chicago', 'IL'), ('Naperville', 'IL'), ('Elgin', 'IL'),\n",
    "             ('Dallas', 'TX'), ('Fort Worth', 'TX'), ('Arlington', 'TX'), ('Washington', 'DC'), ('Arlington', 'VA'), ('Alexandria', 'VA')]\n",
    "\n",
    "getHouses('houses.csv', cities)"
   ]
  }
 ],
 "metadata": {
  "kernelspec": {
   "display_name": "Python 3 (ipykernel)",
   "language": "python",
   "name": "python3"
  },
  "language_info": {
   "codemirror_mode": {
    "name": "ipython",
    "version": 3
   },
   "file_extension": ".py",
   "mimetype": "text/x-python",
   "name": "python",
   "nbconvert_exporter": "python",
   "pygments_lexer": "ipython3",
   "version": "3.9.12"
  }
 },
 "nbformat": 4,
 "nbformat_minor": 5
}
