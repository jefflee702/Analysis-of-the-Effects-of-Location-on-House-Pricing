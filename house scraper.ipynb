{
 "cells": [
  {
   "cell_type": "code",
   "execution_count": 24,
   "id": "5aff04e4",
   "metadata": {},
   "outputs": [],
   "source": [
    "import requests\n",
    "import csv\n",
    "\n",
    "csvfile = open('output.csv', 'w', newline='')\n",
    "writer = csv.DictWriter(csvfile, fieldnames=['id', 'price', 'city', 'latitude', 'longitude', 'squareFootage'])\n",
    "\n",
    "url = \"https://realty-mole-property-api.p.rapidapi.com/saleListings\"\n",
    "\n",
    "cities = [('Los Angeles', 'CA'), ('Anaheim','CA'), ('Long Beach', 'CA'), ('Chicago', 'IL'), ('Napervill', 'IL'), ('Elgin', 'IL'),\n",
    "         ('Dallas', 'TX'), ('Fort Worth', 'TX'), ('Arlington', 'TX'), ('Washington', 'DC'), ('Arlington', 'VA'), ('Alexandria', 'VA')]\n",
    "\n",
    "for city, state in cities:\n",
    "    querystring = {\"city\":city,\"state\":state,\"limit\":\"500\"}\n",
    "\n",
    "    headers = {\n",
    "        \"X-RapidAPI-Key\": \"43686bd243mshe8a0be6f9e0556cp10a1bbjsn58033bf0f546\",\n",
    "        \"X-RapidAPI-Host\": \"realty-mole-property-api.p.rapidapi.com\"\n",
    "    }\n",
    "\n",
    "    response = requests.request(\"GET\", url, headers=headers, params=querystring)\n",
    "\n",
    "    for house in response.json():\n",
    "        if type(house) == dict:\n",
    "            id_ = house.get('id')\n",
    "            price = house.get('price')\n",
    "            city = house.get('city')\n",
    "            latitude = house.get('latitude')\n",
    "            longitude = house.get('longitude')\n",
    "            sqf = house.get('squareFootage')\n",
    "            writer.writerow({'id':id_, 'price':price, 'city':city, 'latitude':latitude, 'longitude':longitude, 'squareFootage':sqf})\n",
    "\n",
    "csvfile.close()"
   ]
  },
  {
   "cell_type": "code",
   "execution_count": 23,
   "id": "4b536ca0",
   "metadata": {},
   "outputs": [],
   "source": []
  },
  {
   "cell_type": "code",
   "execution_count": null,
   "id": "42ac9f64",
   "metadata": {},
   "outputs": [],
   "source": []
  }
 ],
 "metadata": {
  "kernelspec": {
   "display_name": "Python 3.9.1 64-bit",
   "language": "python",
   "name": "python3"
  },
  "language_info": {
   "codemirror_mode": {
    "name": "ipython",
    "version": 3
   },
   "file_extension": ".py",
   "mimetype": "text/x-python",
   "name": "python",
   "nbconvert_exporter": "python",
   "pygments_lexer": "ipython3",
   "version": "3.9.1"
  },
  "vscode": {
   "interpreter": {
    "hash": "687e73b5e45ec6bac5beacf85c676969d72048082be3e8129d203123a9a4b6bb"
   }
  }
 },
 "nbformat": 4,
 "nbformat_minor": 5
}
