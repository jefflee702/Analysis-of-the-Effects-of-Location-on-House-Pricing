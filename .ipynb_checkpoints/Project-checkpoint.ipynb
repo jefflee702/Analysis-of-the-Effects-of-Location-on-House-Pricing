{
 "cells": [
  {
   "cell_type": "code",
   "execution_count": 4,
   "id": "829458cb",
   "metadata": {},
   "outputs": [],
   "source": [
    "import requests\n",
    "import time\n",
    "import pandas as pd\n",
    "import lxml.html as lx\n",
    "import bs4 as BeautifulSoup"
   ]
  },
  {
   "cell_type": "code",
   "execution_count": 5,
   "id": "112c94ab",
   "metadata": {},
   "outputs": [
    {
     "ename": "TypeError",
     "evalue": "'module' object is not callable",
     "output_type": "error",
     "traceback": [
      "\u001b[1;31m---------------------------------------------------------------------------\u001b[0m",
      "\u001b[1;31mTypeError\u001b[0m                                 Traceback (most recent call last)",
      "Input \u001b[1;32mIn [5]\u001b[0m, in \u001b[0;36m<cell line: 10>\u001b[1;34m()\u001b[0m\n\u001b[0;32m      1\u001b[0m response \u001b[38;5;241m=\u001b[39m requests\u001b[38;5;241m.\u001b[39mget(\u001b[38;5;124m\"\u001b[39m\u001b[38;5;124mhttps://www.zillow.com/homes/Los-Angeles,-CA_rb/\u001b[39m\u001b[38;5;124m\"\u001b[39m,\n\u001b[0;32m      2\u001b[0m                         headers \u001b[38;5;241m=\u001b[39m {\n\u001b[0;32m      3\u001b[0m                            \u001b[38;5;124m\"\u001b[39m\u001b[38;5;124maccept\u001b[39m\u001b[38;5;124m\"\u001b[39m : \u001b[38;5;124m\"\u001b[39m\u001b[38;5;124mtext/html,application/xhtml+xml,application/xml;q=0.9,image/avif,image/webp,image/apng,*/*;q=0.8,application/signed-exchange;v=b3;q=0.9\u001b[39m\u001b[38;5;124m\"\u001b[39m, \n\u001b[1;32m   (...)\u001b[0m\n\u001b[0;32m      6\u001b[0m                            \u001b[38;5;124m\"\u001b[39m\u001b[38;5;124mupgrade-insecure-requests\u001b[39m\u001b[38;5;124m\"\u001b[39m: \u001b[38;5;124m\"\u001b[39m\u001b[38;5;124m1\u001b[39m\u001b[38;5;124m\"\u001b[39m,\n\u001b[0;32m      7\u001b[0m                            \u001b[38;5;124m\"\u001b[39m\u001b[38;5;124muser-agent\u001b[39m\u001b[38;5;124m\"\u001b[39m: \u001b[38;5;124m\"\u001b[39m\u001b[38;5;124mMozilla/5.0 (Macintosh; Intel Mac OS X 10_15_7) AppleWebKit/537.36 (KHTML, like Gecko) Chrome/107.0.0.0 Safari/537.36\u001b[39m\u001b[38;5;124m\"\u001b[39m})\n\u001b[0;32m      9\u001b[0m html \u001b[38;5;241m=\u001b[39m response\u001b[38;5;241m.\u001b[39mtext\n\u001b[1;32m---> 10\u001b[0m page \u001b[38;5;241m=\u001b[39m \u001b[43mBeautifulSoup\u001b[49m\u001b[43m(\u001b[49m\u001b[43mhtml\u001b[49m\u001b[43m,\u001b[49m\u001b[43m \u001b[49m\u001b[38;5;124;43m\"\u001b[39;49m\u001b[38;5;124;43mhtml.parser\u001b[39;49m\u001b[38;5;124;43m\"\u001b[39;49m\u001b[43m)\u001b[49m\n\u001b[0;32m     12\u001b[0m houses \u001b[38;5;241m=\u001b[39m page\u001b[38;5;241m.\u001b[39mfind_all(\u001b[38;5;124m\"\u001b[39m\u001b[38;5;124mul\u001b[39m\u001b[38;5;124m\"\u001b[39m, class_\u001b[38;5;241m=\u001b[39m\u001b[38;5;124m\"\u001b[39m\u001b[38;5;124mList-c11n-8-73-8__sc-1smrmqp-0 srp__sc-1psn8tk-0 bfcHMx photo-cards photo-cards_extra-attribution with_constellation\u001b[39m\u001b[38;5;124m\"\u001b[39m)\n\u001b[0;32m     13\u001b[0m houses \u001b[38;5;241m=\u001b[39m \u001b[38;5;28mstr\u001b[39m(houses)\u001b[38;5;241m.\u001b[39msplit(\u001b[38;5;124m'\u001b[39m\u001b[38;5;124m<li class=\u001b[39m\u001b[38;5;124m\"\u001b[39m\u001b[38;5;124mListItem-c11n-8-73-8__sc-10e22w8-0 srp__hpnp3q-0 enEXBq with_constellation\u001b[39m\u001b[38;5;124m'\u001b[39m)[\u001b[38;5;241m1\u001b[39m:]\n",
      "\u001b[1;31mTypeError\u001b[0m: 'module' object is not callable"
     ]
    }
   ],
   "source": [
    "response = requests.get(\"https://www.zillow.com/homes/Los-Angeles,-CA_rb/\",\n",
    "                        headers = {\n",
    "                           \"accept\" : \"text/html,application/xhtml+xml,application/xml;q=0.9,image/avif,image/webp,image/apng,*/*;q=0.8,application/signed-exchange;v=b3;q=0.9\", \n",
    "                            \"accept-encoding\": \"gzip, deflate, br\",  \n",
    "                            \"accept-language\": \"en-US,en;q=0.9\",\n",
    "                           \"upgrade-insecure-requests\": \"1\",\n",
    "                           \"user-agent\": \"Mozilla/5.0 (Macintosh; Intel Mac OS X 10_15_7) AppleWebKit/537.36 (KHTML, like Gecko) Chrome/107.0.0.0 Safari/537.36\"})\n",
    "\n",
    "html = response.text\n",
    "page = BeautifulSoup(html, \"html.parser\")\n",
    "\n",
    "houses = page.find_all(\"ul\", class_=\"List-c11n-8-73-8__sc-1smrmqp-0 srp__sc-1psn8tk-0 bfcHMx photo-cards photo-cards_extra-attribution with_constellation\")\n",
    "houses = str(houses).split('<li class=\"ListItem-c11n-8-73-8__sc-10e22w8-0 srp__hpnp3q-0 enEXBq with_constellation')[1:]\n",
    "\n",
    "price = list()\n",
    "sqft = list()\n",
    "latitude = list()\n",
    "longitude = list()\n",
    "\n",
    "for i in range(0,9) :\n",
    "    price.append(houses[i].split('price\">$')[1].split(\"</span></div><div\")[0].replace(\",\", \"\"))\n",
    "    sqft.append(page.find(\"span\", class_=\"StyledPropertyCardHomeDetails-c11n-8-73-8__sc-1mlc4v9-0 jlVIIO\").text)\n",
    "    latitude.append(houses[i].split('\"latitude\":')[1].split(',\"longitude\":')[0])\n",
    "    longitude.append(houses[i].split('\"longitude\":')[1].split('},\"url\":')[0])\n",
    "\n",
    "\n",
    "response.status_code\n",
    "#issues: scraping multiple pages\n",
    "#        defining metro area\n",
    "#        getting sqft"
   ]
  },
  {
   "cell_type": "code",
   "execution_count": 6,
   "id": "19f12604",
   "metadata": {},
   "outputs": [
    {
     "ename": "SyntaxError",
     "evalue": "invalid syntax (899264115.py, line 2)",
     "output_type": "error",
     "traceback": [
      "\u001b[1;36m  Input \u001b[1;32mIn [6]\u001b[1;36m\u001b[0m\n\u001b[1;33m    response = requests.get(\"https://www.zillow.com/homes/\" + str(city) + \",-\" str(state) +\"_rb/\",\u001b[0m\n\u001b[1;37m                                                                               ^\u001b[0m\n\u001b[1;31mSyntaxError\u001b[0m\u001b[1;31m:\u001b[0m invalid syntax\n"
     ]
    }
   ],
   "source": [
    " def get_house_info(city, state) :\n",
    "    response = requests.get(\"https://www.zillow.com/homes/\" + str(city) + \",-\" + str(state) +\"_rb/\",\n",
    "                            headers = {\n",
    "                               \"accept\" : \"text/html,application/xhtml+xml,application/xml;q=0.9,image/avif,image/webp,image/apng,*/*;q=0.8,application/signed-exchange;v=b3;q=0.9\",\n",
    "                               \"accept-encoding\": \"gzip, deflate, br\" ,\n",
    "                               \"accept-language\": \"en-US,en;q=0.9\",\n",
    "                               \"upgrade-insecure-requests\": \"1\",\n",
    "                               \"user-agent\": \"Mozilla/5.0 (Macintosh; Intel Mac OS X 10_15_7) AppleWebKit/537.36 (KHTML, like Gecko) Chrome/107.0.0.0 Safari/537.36\"})\n",
    "\n",
    "    html = response.text\n",
    "    page = BeautifulSoup(html, \"html.parser\")\n",
    "\n",
    "    houses = page.find_all(\"ul\", class_=\"List-c11n-8-73-8__sc-1smrmqp-0 srp__sc-1psn8tk-0 bfcHMx photo-cards photo-cards_extra-attribution with_constellation\")\n",
    "    houses = str(houses).split('<li class=\"ListItem-c11n-8-73-8__sc-10e22w8-0 srp__hpnp3q-0 enEXBq with_constellation')[1:]\n",
    "\n",
    "    price = list()\n",
    "    sqft = list()\n",
    "    latitude = list()\n",
    "    longitude = list()\n",
    "\n",
    "    for i in range(0,len(houses)) :\n",
    "        #price.append(houses[i].split('price\">$')[1].split(\"</span></div><div\")[0].replace(\",\", \"\"))\n",
    "        sqft.append(page.find(\"span\", class_=\"StyledPropertyCardHomeDetails-c11n-8-73-8__sc-1mlc4v9-0 jlVIIO\").text)\n",
    "        #latitude.append(houses[i].split('\"latitude\":')[1].split(',\"longitude\":')[0])\n",
    "        #longitude.append(houses[i].split('\"longitude\":')[1].split('},\"url\":')[0])\n",
    "\n",
    "    x = houses[3]\n",
    "    houses[3].split('price\">$')[1].split(\"</span></div><div\")[0].replace(\",\", \"\")\n",
    "    y = houses[3]\n",
    "    y.split('\"latitude\":')[1].split(',\"longitude\":')[0]\n",
    "    z = houses[3]\n",
    "    z.split('\"longitude\":')[1].split('},\"url\":')[0]\n",
    "    z\n",
    "    \n",
    "    return ()"
   ]
  },
  {
   "cell_type": "code",
   "execution_count": 317,
   "id": "f39d9556",
   "metadata": {},
   "outputs": [],
   "source": [
    "from serpapi import GoogleSearch"
   ]
  },
  {
   "cell_type": "code",
   "execution_count": 326,
   "id": "c4d1c325",
   "metadata": {},
   "outputs": [
    {
     "name": "stdout",
     "output_type": "stream",
     "text": [
      "{\n",
      "   \"error_message\" : \"You must use an API key to authenticate each request to Google Maps Platform APIs. For additional information, please refer to http://g.co/dev/maps-no-account\",\n",
      "   \"predictions\" : [],\n",
      "   \"status\" : \"REQUEST_DENIED\"\n",
      "}\n",
      "\n"
     ]
    }
   ],
   "source": [
    "response = requests.request(\"GET\", \"https://maps.googleapis.com/maps/api/place/autocomplete/json?input=amoeba&types=establishment&location=37.76999%2C-122.44696&radius=500&key=\", \n",
    "                            headers={}, data={})\n",
    "print(response.text)"
   ]
  },
  {
   "cell_type": "code",
   "execution_count": null,
   "id": "b3a7f0db",
   "metadata": {},
   "outputs": [],
   "source": []
  }
 ],
 "metadata": {
  "kernelspec": {
   "display_name": "Python 3 (ipykernel)",
   "language": "python",
   "name": "python3"
  },
  "language_info": {
   "codemirror_mode": {
    "name": "ipython",
    "version": 3
   },
   "file_extension": ".py",
   "mimetype": "text/x-python",
   "name": "python",
   "nbconvert_exporter": "python",
   "pygments_lexer": "ipython3",
   "version": "3.9.12"
  }
 },
 "nbformat": 4,
 "nbformat_minor": 5
}
