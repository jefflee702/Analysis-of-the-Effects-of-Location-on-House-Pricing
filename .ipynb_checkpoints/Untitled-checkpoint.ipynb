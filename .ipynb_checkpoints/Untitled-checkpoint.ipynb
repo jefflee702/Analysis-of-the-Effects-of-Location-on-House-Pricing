{
 "cells": [
  {
   "cell_type": "code",
   "execution_count": 15,
   "id": "4cd1ab12",
   "metadata": {},
   "outputs": [
    {
     "ename": "AttributeError",
     "evalue": "'DictWriter' object has no attribute 'writeHeader'",
     "output_type": "error",
     "traceback": [
      "\u001b[1;31m---------------------------------------------------------------------------\u001b[0m",
      "\u001b[1;31mAttributeError\u001b[0m                            Traceback (most recent call last)",
      "Input \u001b[1;32mIn [15]\u001b[0m, in \u001b[0;36m<cell line: 4>\u001b[1;34m()\u001b[0m\n\u001b[0;32m      4\u001b[0m \u001b[38;5;28;01mwith\u001b[39;00m \u001b[38;5;28mopen\u001b[39m(\u001b[38;5;124m'\u001b[39m\u001b[38;5;124moutput.csv\u001b[39m\u001b[38;5;124m'\u001b[39m, \u001b[38;5;124m'\u001b[39m\u001b[38;5;124mw\u001b[39m\u001b[38;5;124m'\u001b[39m, newline\u001b[38;5;241m=\u001b[39m\u001b[38;5;124m'\u001b[39m\u001b[38;5;124m'\u001b[39m) \u001b[38;5;28;01mas\u001b[39;00m csvfile:\n\u001b[0;32m      5\u001b[0m     writer \u001b[38;5;241m=\u001b[39m csv\u001b[38;5;241m.\u001b[39mDictWriter(csvfile, fieldnames\u001b[38;5;241m=\u001b[39m[\u001b[38;5;124m'\u001b[39m\u001b[38;5;124mid\u001b[39m\u001b[38;5;124m'\u001b[39m, \u001b[38;5;124m'\u001b[39m\u001b[38;5;124mprice\u001b[39m\u001b[38;5;124m'\u001b[39m, \u001b[38;5;124m'\u001b[39m\u001b[38;5;124mcity\u001b[39m\u001b[38;5;124m'\u001b[39m, \u001b[38;5;124m'\u001b[39m\u001b[38;5;124mlatitude\u001b[39m\u001b[38;5;124m'\u001b[39m, \u001b[38;5;124m'\u001b[39m\u001b[38;5;124mlongitude\u001b[39m\u001b[38;5;124m'\u001b[39m, \u001b[38;5;124m'\u001b[39m\u001b[38;5;124msquareFootage\u001b[39m\u001b[38;5;124m'\u001b[39m])\n\u001b[1;32m----> 6\u001b[0m     \u001b[43mwriter\u001b[49m\u001b[38;5;241;43m.\u001b[39;49m\u001b[43mwriteHeader\u001b[49m()\n\u001b[0;32m      8\u001b[0m url \u001b[38;5;241m=\u001b[39m \u001b[38;5;124m\"\u001b[39m\u001b[38;5;124mhttps://realty-mole-property-api.p.rapidapi.com/saleListings\u001b[39m\u001b[38;5;124m\"\u001b[39m\n\u001b[0;32m     10\u001b[0m cities \u001b[38;5;241m=\u001b[39m [(\u001b[38;5;124m'\u001b[39m\u001b[38;5;124mLos Angeles\u001b[39m\u001b[38;5;124m'\u001b[39m, \u001b[38;5;124m'\u001b[39m\u001b[38;5;124mCA\u001b[39m\u001b[38;5;124m'\u001b[39m)]\n",
      "\u001b[1;31mAttributeError\u001b[0m: 'DictWriter' object has no attribute 'writeHeader'"
     ]
    }
   ],
   "source": [
    "import requests\n",
    "import csv\n",
    "\n",
    "with open('output.csv', 'w', newline='') as csvfile:\n",
    "    writer = csv.DictWriter(csvfile, fieldnames=['id', 'price', 'city', 'latitude', 'longitude', 'squareFootage'])\n",
    "    writer.writeHeader()\n",
    "\n",
    "url = \"https://realty-mole-property-api.p.rapidapi.com/saleListings\"\n",
    "\n",
    "cities = [('Los Angeles', 'CA')]\n",
    "\n",
    "for city, state in cities:\n",
    "    querystring = {\"city\":city,\"state\":state,\"limit\":\"1\"}\n",
    "\n",
    "    headers = {\n",
    "        \"X-RapidAPI-Key\": \"43686bd243mshe8a0be6f9e0556cp10a1bbjsn58033bf0f546\",\n",
    "        \"X-RapidAPI-Host\": \"realty-mole-property-api.p.rapidapi.com\"\n",
    "    }\n",
    "\n",
    "    response = requests.request(\"GET\", url, headers=headers, params=querystring)\n",
    "\n",
    "    for house in response.json():\n",
    "        id_ = house['id']\n",
    "        price = house['price']\n",
    "        city = house['city']\n",
    "        latitude = house['latitude']\n",
    "        longitude = house['longitude']\n",
    "        sqf = house['squareFootage']\n",
    "        print(id_)\n",
    "        writer.writerow({'id':id_, 'price':price, 'city':city, 'latitude':latitude, 'longitude':longitude, 'squareFootage':sqf})\n",
    "\n"
   ]
  },
  {
   "cell_type": "code",
   "execution_count": 13,
   "id": "e1226be1",
   "metadata": {},
   "outputs": [
    {
     "name": "stdout",
     "output_type": "stream",
     "text": [
      "1246-Armacost-Ave,-Apt-303,-Los-Angeles,-CA-90025\n"
     ]
    }
   ],
   "source": [
    "    for house in response.json():\n",
    "        id_ = house['id']\n",
    "        price = house['price']\n",
    "        city = house['city']\n",
    "        latitude = house['latitude']\n",
    "        longitude = house['longitude']\n",
    "        sqf = house['squareFootage']\n",
    "        print(id_)"
   ]
  },
  {
   "cell_type": "code",
   "execution_count": null,
   "id": "9a6be363",
   "metadata": {},
   "outputs": [],
   "source": []
  }
 ],
 "metadata": {
  "kernelspec": {
   "display_name": "Python 3 (ipykernel)",
   "language": "python",
   "name": "python3"
  },
  "language_info": {
   "codemirror_mode": {
    "name": "ipython",
    "version": 3
   },
   "file_extension": ".py",
   "mimetype": "text/x-python",
   "name": "python",
   "nbconvert_exporter": "python",
   "pygments_lexer": "ipython3",
   "version": "3.9.12"
  }
 },
 "nbformat": 4,
 "nbformat_minor": 5
}
