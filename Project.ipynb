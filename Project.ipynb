{
 "cells": [
  {
   "cell_type": "code",
   "execution_count": 5,
   "id": "829458cb",
   "metadata": {},
   "outputs": [],
   "source": [
    "import requests\n",
    "import time\n",
    "import pandas as pd\n",
    "import lxml.html as lx\n",
    "from bs4 import BeautifulSoup"
   ]
  },
  {
   "cell_type": "code",
   "execution_count": 3,
   "id": "112c94ab",
   "metadata": {},
   "outputs": [
    {
     "data": {
      "text/plain": [
       "<div class=\"StyledPropertyCardDataArea-c11n-8-73-8__sc-yipmu-0 hRqIYX\"><span data-test=\"property-card-price\">$350,000</span></div>"
      ]
     },
     "execution_count": 3,
     "metadata": {},
     "output_type": "execute_result"
    }
   ],
   "source": [
    "response = requests.get(\"https://www.zillow.com/chicago-il/?searchQueryState=%7B%22pagination%22%3A%7B%7D%2C%22usersSearchTerm%22%3A%22Chicago%2C%20IL%22%2C%22mapBounds%22%3A%7B%22west%22%3A-88.20572740039063%2C%22east%22%3A-87.25815659960938%2C%22south%22%3A41.523742513615815%2C%22north%22%3A42.14278514007096%7D%2C%22regionSelection%22%3A%5B%7B%22regionId%22%3A17426%2C%22regionType%22%3A6%7D%5D%2C%22isMapVisible%22%3Afalse%2C%22filterState%22%3A%7B%22sort%22%3A%7B%22value%22%3A%22globalrelevanceex%22%7D%2C%22ah%22%3A%7B%22value%22%3Atrue%7D%7D%2C%22isListVisible%22%3Atrue%7D\", \n",
    "                       headers = {\n",
    "                           \"accept\" : \"text/html,application/xhtml+xml,application/xml;q=0.9,image/avif,image/webp,image/apng,*/*;q=0.8,application/signed-exchange;v=b3;q=0.9\",\n",
    "                           \"accept-encoding\": \"gzip, deflate, br\" ,\n",
    "                           \"accept-language\": \"en-US,en;q=0.9\",\n",
    "                           \"upgrade-insecure-requests\": \"1\",\n",
    "                           \"user-agent\": \"Mozilla/5.0 (Macintosh; Intel Mac OS X 10_15_7) AppleWebKit/537.36 (KHTML, like Gecko) Chrome/107.0.0.0 Safari/537.36\"})\n",
    "html = response.text\n",
    "\n",
    "\n",
    "page = BeautifulSoup(html, \"html.parser\")\n",
    "price_tag = page.find_all(\"div\", class_=\"StyledPropertyCardDataArea-c11n-8-73-8__sc-yipmu-0 hRqIYX\")\n",
<<<<<<< HEAD
    "price_tag[0]"
=======
    "bed_bath = page.find_all("div", class_="StyledPropertyCardDataArea-c11n-8-73-8__sc-yipmu-0 ghGYOB")\n",
    "address = page.find_all("a", class_="StyledPropertyCardDataArea-c11n-8-73-8__sc-yipmu-0 lhIXlm property-card-link")\n"


>>>>>>> 212c1d0cc15fad27e1df2baa5ba1d0c00a25420e
   ]
  },
  {
   "cell_type": "code",
   "execution_count": 56,
   "id": "13cd0331",
   "metadata": {},
   "outputs": [],
   "source": [
    "#creating lxml version\n",
    "html = lx.fromstring(response.text)\n",
    "\n",
    "#each house\n",
    "house = html.xpath(\"//li[@class='ListItem-c11n-8-73-8__sc-10e22w8-0 srp__hpnp3q-0 enEXBq with_constellation']\")#[0].text_content()\n",
    "\n",
    "#price\n",
    "price = html.xpath(\"//span[@data-test='property-card-price']\")\n",
    "\n",
    "#bed, bath, sq feet\n",
    "info = html.xpath(\"//span[@class='StyledPropertyCardHomeDetails-c11n-8-73-8__sc-1mlc4v9-0 jlVIIO']\")#[0].text_content()\n",
    "\n",
    "#address\n",
    "address = html.xpath(\"//address[@data-test='property-card-addr']\")#[0].text_content()"
   ]
  },
  {
   "cell_type": "code",
   "execution_count": 54,
   "id": "b13f7419",
   "metadata": {},
   "outputs": [],
   "source": [
    "#put in list to create df\n",
    "price = []\n",
    "for i in range(0,9):\n",
    "    price.append(html.xpath(\"//span[@data-test='property-card-price']\")[i].text_content())\n",
    "#ListItem-c11n-8-73-8__sc-10e22w8-0 srp__hpnp3q-0 enEXBq with_constellation"
   ]
  },
  {
   "cell_type": "code",
   "execution_count": 60,
   "id": "eeac2fdd",
   "metadata": {},
   "outputs": [
    {
     "data": {
      "text/plain": [
       "[<Element span at 0x27e2d704ea0>,\n",
       " <Element span at 0x27e2d704bd0>,\n",
       " <Element span at 0x27e2d704e00>,\n",
       " <Element span at 0x27e2c1e01d0>,\n",
       " <Element span at 0x27e2c1e0ae0>,\n",
       " <Element span at 0x27e2c1e0090>,\n",
       " <Element span at 0x27e2c1e05e0>,\n",
       " <Element span at 0x27e2c1e07c0>,\n",
       " <Element span at 0x27e2c1e04f0>]"
      ]
     },
     "execution_count": 60,
     "metadata": {},
     "output_type": "execute_result"
    }
   ],
   "source": [
    "#html.xpath(\"//span[@data-test='property-card-price']\")#only gets first 9 for some reason???\n",
    "price"
   ]
  }
 ],
 "metadata": {
  "kernelspec": {
   "display_name": "Python 3.9.1 64-bit",
   "language": "python",
   "name": "python3"
  },
  "language_info": {
   "codemirror_mode": {
    "name": "ipython",
    "version": 3
   },
   "file_extension": ".py",
   "mimetype": "text/x-python",
   "name": "python",
   "nbconvert_exporter": "python",
   "pygments_lexer": "ipython3",
   "version": "3.9.1"
  },
  "vscode": {
   "interpreter": {
    "hash": "687e73b5e45ec6bac5beacf85c676969d72048082be3e8129d203123a9a4b6bb"
   }
  }
 },
 "nbformat": 4,
 "nbformat_minor": 5
}
